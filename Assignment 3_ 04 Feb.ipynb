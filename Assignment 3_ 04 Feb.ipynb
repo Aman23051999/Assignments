{
 "cells": [
  {
   "cell_type": "markdown",
   "id": "0eee43f7-975f-432c-a84e-0cfb5a961591",
   "metadata": {},
   "source": [
    "Q1. Create a python program to sort the given list of tuples based on integer value using a\n",
    "lambda function.\n",
    "[('Sachin Tendulkar', 34357), ('Ricky Ponting', 27483), ('Jack Kallis', 25534), ('Virat Kohli', 24936)]"
   ]
  },
  {
   "cell_type": "code",
   "execution_count": 1,
   "id": "a5c2ac20-e6bb-4442-a7a6-6234883f2128",
   "metadata": {},
   "outputs": [],
   "source": [
    "Players=[('Sachin Tendulkar', 34357), ('Ricky Ponting', 27483), ('Jack Kallis', 25534), ('Virat Kohli', 24936)]"
   ]
  },
  {
   "cell_type": "code",
   "execution_count": 3,
   "id": "b6d2dfb5-bf55-4bd0-8c0b-a040e20b4f9a",
   "metadata": {},
   "outputs": [
    {
     "name": "stdout",
     "output_type": "stream",
     "text": [
      "24936\n",
      "25534\n",
      "27483\n",
      "34357\n"
     ]
    }
   ],
   "source": [
    "sort=sorted(Players, key=lambda x:x[1])\n",
    "for i in sort:\n",
    "    print(i[1])"
   ]
  },
  {
   "cell_type": "markdown",
   "id": "be1b84eb-53f6-4a7d-88f0-bffb7e53ea75",
   "metadata": {},
   "source": [
    "Q2.Write a Python Program to find the squares of all the numbers in the given list of integers using\n",
    "lambda and map functions.\n",
    "\n",
    "\n",
    "[1, 2, 3, 4, 5, 6, 7, 8, 9, 10]\n"
   ]
  },
  {
   "cell_type": "code",
   "execution_count": 4,
   "id": "620dc97a-0f1c-4c55-923c-1b8e9160a6bd",
   "metadata": {},
   "outputs": [],
   "source": [
    "x=[1,2,3,4,5,6,78,9,10]"
   ]
  },
  {
   "cell_type": "code",
   "execution_count": 7,
   "id": "2b6c0d07-3e28-4bf5-97e7-ec8a6c2dff64",
   "metadata": {},
   "outputs": [
    {
     "data": {
      "text/plain": [
       "[1, 4, 9, 16, 25, 36, 6084, 81, 100]"
      ]
     },
     "execution_count": 7,
     "metadata": {},
     "output_type": "execute_result"
    }
   ],
   "source": [
    "list(map(lambda x: x**2, x))"
   ]
  },
  {
   "cell_type": "markdown",
   "id": "d9ef8abb-e616-4f67-85f1-158606567ee7",
   "metadata": {},
   "source": [
    "Q3. Write a python program to convert the given list of integers into a tuple of strings. Use map and\n",
    "lambda functions\n",
    "\n",
    "\n",
    "Given String: [1, 2, 3, 4, 5, 6, 7, 8, 9, 10]\n",
    "\n",
    "Expected output: ('1', '2', '3', '4', '5', '6', '7', '8', '9', '10')"
   ]
  },
  {
   "cell_type": "code",
   "execution_count": 9,
   "id": "a0dd3f53-584e-42c7-a6cd-3ab362789c50",
   "metadata": {},
   "outputs": [],
   "source": [
    "A=[1, 2, 3, 4, 5, 6, 7, 8, 9, 10]"
   ]
  },
  {
   "cell_type": "code",
   "execution_count": 10,
   "id": "ceaf7d1a-ef14-4ca7-91d0-140d0dd9e3f7",
   "metadata": {},
   "outputs": [
    {
     "data": {
      "text/plain": [
       "('1', '2', '3', '4', '5', '6', '7', '8', '9', '10')"
      ]
     },
     "execution_count": 10,
     "metadata": {},
     "output_type": "execute_result"
    }
   ],
   "source": [
    "tuple(map(lambda x:str(x), A))"
   ]
  },
  {
   "cell_type": "markdown",
   "id": "437a73d3-191c-4b27-976f-6767ceb035c4",
   "metadata": {},
   "source": [
    "Q4. Write a python program using reduce function to compute the product of a list containing numbers\n",
    "from 1 to 25."
   ]
  },
  {
   "cell_type": "code",
   "execution_count": 14,
   "id": "fa875397-76e4-4bf2-bfaf-f49223b4de55",
   "metadata": {},
   "outputs": [
    {
     "data": {
      "text/plain": [
       "15511210043330985984000000"
      ]
     },
     "execution_count": 14,
     "metadata": {},
     "output_type": "execute_result"
    }
   ],
   "source": [
    "from functools import reduce\n",
    "B=list(range(1,26))\n",
    "\n",
    "reduce(lambda x,y: x*y ,B )"
   ]
  },
  {
   "cell_type": "markdown",
   "id": "33382375-bac3-47ba-9d99-407aaaab737a",
   "metadata": {},
   "source": [
    "Q5. Write a python program to filter the numbers in a given list that are divisible by 2 and 3 using the\n",
    "filter function.\n",
    "\n",
    "\n",
    "[2, 3, 6, 9, 27, 60, 90, 120, 55, 46]"
   ]
  },
  {
   "cell_type": "code",
   "execution_count": 15,
   "id": "d41962b3-3f7d-4140-9d33-195206694819",
   "metadata": {},
   "outputs": [],
   "source": [
    "S=[2, 3, 6, 9, 27, 60, 90, 120, 55, 46]"
   ]
  },
  {
   "cell_type": "code",
   "execution_count": 17,
   "id": "195a1ddc-b4d7-4f78-a832-0125e775b407",
   "metadata": {},
   "outputs": [
    {
     "data": {
      "text/plain": [
       "[6, 60, 90, 120]"
      ]
     },
     "execution_count": 17,
     "metadata": {},
     "output_type": "execute_result"
    }
   ],
   "source": [
    "list(filter(lambda x :x%2==0 and x%3==0 , S))"
   ]
  },
  {
   "cell_type": "markdown",
   "id": "c3d87bdd-2a4b-438b-82a8-cf5fd45a2b18",
   "metadata": {},
   "source": [
    "Q6. Write a python program to find palindromes in the given list of strings using lambda and filter\n",
    "function.\n",
    "\n",
    "\n",
    "['python', 'php', 'aba', 'radar', 'level']"
   ]
  },
  {
   "cell_type": "code",
   "execution_count": null,
   "id": "e6231942-1b3f-441d-8fbb-daa288079b78",
   "metadata": {},
   "outputs": [],
   "source": []
  }
 ],
 "metadata": {
  "kernelspec": {
   "display_name": "Python 3 (ipykernel)",
   "language": "python",
   "name": "python3"
  },
  "language_info": {
   "codemirror_mode": {
    "name": "ipython",
    "version": 3
   },
   "file_extension": ".py",
   "mimetype": "text/x-python",
   "name": "python",
   "nbconvert_exporter": "python",
   "pygments_lexer": "ipython3",
   "version": "3.10.8"
  }
 },
 "nbformat": 4,
 "nbformat_minor": 5
}
