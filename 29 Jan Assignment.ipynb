{
 "cells": [
  {
   "cell_type": "markdown",
   "id": "fd199d7f-4528-474d-a261-c5a3f5b95687",
   "metadata": {},
   "source": [
    "Q1.Who developed the python programming Language?\n",
    "\n",
    "Python was developed by Guido van Rossum. He began working on Python in the late 1980s, and the first version, Python 0.9.0, was released on February 20, 1991. Guido van Rossum is often referred to as the \"Benevolent Dictator For Life\" (BDFL) of the Python programming language, as he played a significant role in overseeing its development and guiding the language's design decisions. Python has since become one of the most popular and widely used programming languages in the world."
   ]
  },
  {
   "cell_type": "markdown",
   "id": "43dbfb0e-f3c3-4749-8755-00fb7e57e226",
   "metadata": {},
   "source": [
    "Q2. Which type of programming does python support?\n",
    "\n",
    "Python supports multiple programming paradigms, making it a versatile and flexible programming language. The main programming paradigms supported by Python are:\n",
    "\n",
    "1.Imperative Programming: Python allows you to write code that consists of a sequence of statements that change the program's state. It supports concepts like variables, loops, conditionals, and procedures, which are characteristic of imperative programming.\n",
    "\n",
    "2.Object-Oriented Programming (OOP): Python is a fully object-oriented programming language, supporting classes, objects, inheritance, polymorphism, and encapsulation. It allows developers to create and use objects to model real-world entities, promoting code organization and reuse.\n",
    "\n",
    "3.Functional Programming: Python supports functional programming principles, allowing you to write functions as first-class objects, use lambda expressions, and work with higher-order functions. Though not purely functional, Python provides features for functional programming.\n",
    "\n",
    "4.Procedural Programming: Python enables procedural programming, where code is organized into procedures or functions that can be called sequentially.\n",
    "\n",
    "Structured Programming: Python supports structured programming, promoting the use of functions and modules for organizing code into logical blocks and promoting better code readability.\n",
    "\n",
    "The support for multiple programming paradigms in Python makes it a powerful language suitable for a wide range of applications and styles of programming. Developers can choose the best approach that suits their specific needs and coding preferences.\n",
    "\n",
    "\n",
    "\n",
    "\n",
    "\n",
    "\n"
   ]
  },
  {
   "cell_type": "markdown",
   "id": "00bef5e5-5932-4d46-a533-16d208ee77db",
   "metadata": {},
   "source": [
    "Q3. Is python case sensitivities when dealing with Identifires?\n",
    "\n",
    "Yes, Python is case-sensitive when dealing with identifiers.\n",
    "\n",
    "In Python, identifiers are used to name variables, functions, classes, modules, and other objects. An identifier can be composed of letters (both uppercase and lowercase), digits, and underscores. However, it must follow some rules:\n",
    "\n",
    "The first character of an identifier must be a letter (a-z, A-Z) or an underscore (_).\n",
    "The rest of the identifier can be letters, digits (0-9), or underscores (_).\n",
    "Python identifiers are case-sensitive, meaning that uppercase and lowercase letters are treated as distinct characters. For example, \"myVar\" and \"myvar\" are considered two different identifiers.\n",
    "Here are some examples of valid and distinct identifiers in Python:\n",
    "\n"
   ]
  },
  {
   "cell_type": "code",
   "execution_count": 1,
   "id": "9952e49c-12b3-4f68-a915-498baa363712",
   "metadata": {},
   "outputs": [],
   "source": [
    "x = 10\n",
    "my_variable = 20\n",
    "MyVariable = 30\n",
    "_this_is_an_identifier = \"Hello\"\n"
   ]
  },
  {
   "cell_type": "markdown",
   "id": "b1adc27c-65f8-4e10-bfbd-e558f383a309",
   "metadata": {},
   "source": [
    "In the above examples, \"x,\" \"my_variable,\" \"MyVariable,\" and \"_this_is_an_identifier\" are all valid identifiers, and Python treats them as distinct entities due to case sensitivity."
   ]
  },
  {
   "cell_type": "markdown",
   "id": "b363f5de-41f1-4483-83c4-94ebb5527632",
   "metadata": {},
   "source": [
    "Q4. What is the correct extension of the python file?\n",
    "\n",
    "The correct extension of a Python file is \".py\".\n",
    "\n",
    "When you save a Python script or program in a file, you should give it a name followed by the \".py\" extension. For example:\n",
    "\n",
    "myscript.py\n",
    "example_program.py\n",
    "hello_world.py\n",
    "Using the \".py\" extension is a convention in Python, and it indicates that the file contains Python code. It also helps your operating system and code editors recognize the file type and apply appropriate syntax highlighting and other features specific to Python programming.\n",
    "\n",
    "Remember to always use the \".py\" extension for Python files to ensure that they are recognized and treated as Python scripts by the Python interpreter and development tools."
   ]
  },
  {
   "cell_type": "markdown",
   "id": "6ca6fcb0-309b-406f-a1c5-5a7e45fc1f7d",
   "metadata": {},
   "source": [
    "Q5. Is python code complied or interpreted?\n",
    "\n",
    "Python is an interpreted programming language.\n",
    "\n",
    "When you run a Python script or program, the Python interpreter reads the source code line by line and executes it directly without prior compilation into machine code. The interpreter translates the Python code into intermediate bytecode, which is then executed by the Python Virtual Machine (PVM). This process happens dynamically at runtime, which is why Python is often referred to as an interpreted language.\n",
    "\n",
    "This interpretive nature of Python provides several advantages, such as platform independence (Python code can run on any platform with a compatible interpreter) and flexibility (changes to the code take effect immediately without requiring a separate compilation step). However, it can also make Python code generally slower to execute compared to compiled languages like C or C++. To mitigate this, Python uses various optimization techniques, and there are tools like PyInstaller and Nuitka that can compile Python code to executable binaries, but they still rely on the Python interpreter to some extent.\n"
   ]
  },
  {
   "cell_type": "markdown",
   "id": "fec7c051-64ce-4f30-b0ea-018915541f06",
   "metadata": {},
   "source": [
    "Q6. Use a few blocks of code used to define in Python programming language?\n",
    "\n",
    "Here are a few common blocks of code used in Python programming:\n",
    "\n",
    "1.Defining a Function:"
   ]
  },
  {
   "cell_type": "code",
   "execution_count": 2,
   "id": "7776e0ab-e3ed-4e69-b726-ae81816251ec",
   "metadata": {},
   "outputs": [
    {
     "name": "stdout",
     "output_type": "stream",
     "text": [
      "Hello, Alice!\n",
      "Hello, Bob!\n"
     ]
    }
   ],
   "source": [
    "def greet(name):\n",
    "    \"\"\"This function greets the person with the given name.\"\"\"\n",
    "    print(f\"Hello, {name}!\")\n",
    "\n",
    "# Calling the function\n",
    "greet(\"Alice\")\n",
    "greet(\"Bob\")\n"
   ]
  },
  {
   "cell_type": "markdown",
   "id": "5c7b54a1-7765-411a-bc29-3212f06a88fe",
   "metadata": {},
   "source": [
    "2. Conditional Statements (if-elif-else):"
   ]
  },
  {
   "cell_type": "code",
   "execution_count": 3,
   "id": "5f1999c2-364f-436e-b8b6-e541d2743f5f",
   "metadata": {},
   "outputs": [
    {
     "name": "stdout",
     "output_type": "stream",
     "text": [
      "x is positive\n"
     ]
    }
   ],
   "source": [
    "x = 10\n",
    "\n",
    "if x > 0:\n",
    "    print(\"x is positive\")\n",
    "elif x == 0:\n",
    "    print(\"x is zero\")\n",
    "else:\n",
    "    print(\"x is negative\")\n"
   ]
  },
  {
   "cell_type": "markdown",
   "id": "a97fe405-105b-4a1f-afb6-af943a95fca6",
   "metadata": {},
   "source": [
    "3. For Loop:"
   ]
  },
  {
   "cell_type": "code",
   "execution_count": 4,
   "id": "6037328c-faaa-4272-ba35-5abe27abea7f",
   "metadata": {},
   "outputs": [
    {
     "name": "stdout",
     "output_type": "stream",
     "text": [
      "apple\n",
      "banana\n",
      "cherry\n"
     ]
    }
   ],
   "source": [
    "fruits = [\"apple\", \"banana\", \"cherry\"]\n",
    "\n",
    "for fruit in fruits:\n",
    "    print(fruit)\n"
   ]
  },
  {
   "cell_type": "markdown",
   "id": "3e60d4ab-19d8-4106-8ded-3c0ec7f5961c",
   "metadata": {},
   "source": [
    "4.While Loop"
   ]
  },
  {
   "cell_type": "code",
   "execution_count": 5,
   "id": "29253f87-da7b-4676-8ba1-e784dda3f731",
   "metadata": {},
   "outputs": [
    {
     "name": "stdout",
     "output_type": "stream",
     "text": [
      "Count: 1\n",
      "Count: 2\n",
      "Count: 3\n",
      "Count: 4\n",
      "Count: 5\n"
     ]
    }
   ],
   "source": [
    "count = 1\n",
    "\n",
    "while count <= 5:\n",
    "    print(f\"Count: {count}\")\n",
    "    count += 1\n"
   ]
  },
  {
   "cell_type": "markdown",
   "id": "21650b9d-718c-467d-8478-395d87135437",
   "metadata": {},
   "source": [
    "5. Class Definition and Object Creation:"
   ]
  },
  {
   "cell_type": "code",
   "execution_count": 6,
   "id": "e5235f08-e5f6-4fc1-bf83-eb67f7015013",
   "metadata": {},
   "outputs": [
    {
     "name": "stdout",
     "output_type": "stream",
     "text": [
      "Buddy says woof!\n"
     ]
    }
   ],
   "source": [
    "class Dog:\n",
    "    def __init__(self, name):\n",
    "        self.name = name\n",
    "\n",
    "    def bark(self):\n",
    "        print(f\"{self.name} says woof!\")\n",
    "\n",
    "# Creating an object\n",
    "dog1 = Dog(\"Buddy\")\n",
    "dog1.bark()\n"
   ]
  },
  {
   "cell_type": "markdown",
   "id": "2f99fcf5-ae14-4014-b257-e7687f873506",
   "metadata": {},
   "source": [
    "Q7. State a character to used to  give single line comments in Python?"
   ]
  },
  {
   "cell_type": "markdown",
   "id": "427e6b05-b210-4eb3-afe8-03e0a42255d3",
   "metadata": {},
   "source": [
    "In Python, the character used to give single-line comments is the hash symbol #.\n",
    "\n",
    "Any text that follows the # symbol on the same line is considered a comment and is ignored by the Python interpreter during execution. Single-line comments are used to provide explanatory notes, documentation, or temporary code removal, helping other programmers understand the code's purpose or functionality.\n",
    "\n",
    "Here's an example of a single-line comment in Python:"
   ]
  },
  {
   "cell_type": "code",
   "execution_count": 7,
   "id": "c21466fd-cb20-4655-bd61-7eca2b5e43ec",
   "metadata": {},
   "outputs": [
    {
     "name": "stdout",
     "output_type": "stream",
     "text": [
      "Hello, World!\n"
     ]
    }
   ],
   "source": [
    "# This is a single-line comment in Python\n",
    "print(\"Hello, World!\")  # This line prints the greeting\n"
   ]
  },
  {
   "cell_type": "markdown",
   "id": "e3d6cdb3-5eb8-4c8d-aa3f-f1dd153f9609",
   "metadata": {},
   "source": [
    "In the above code, both lines starting with # are considered comments, and they have no effect on the program's output. They are solely meant for human readers to understand the code better."
   ]
  },
  {
   "cell_type": "markdown",
   "id": "08f07496-4d71-456f-86e1-9cb3256e0742",
   "metadata": {},
   "source": [
    "Q8. Name the function which help us to find the version of the python on which we are currently working on?"
   ]
  },
  {
   "cell_type": "markdown",
   "id": "d40cca50-7e8f-42e4-a50f-aebeae39ef7a",
   "metadata": {},
   "source": [
    "You can find the version of Python you are currently working on using the sys module in Python. The sys module provides access to various system-specific parameters and functions, including the Python interpreter version.\n",
    "\n",
    "To check the Python version, you can use the sys.version or sys.version_info attribute. Here's how you can do it:"
   ]
  },
  {
   "cell_type": "code",
   "execution_count": 9,
   "id": "06b33f9b-becb-4e1c-a061-70c7d7ce3f7f",
   "metadata": {},
   "outputs": [
    {
     "name": "stdout",
     "output_type": "stream",
     "text": [
      "Python version: 3.10.8 | packaged by conda-forge | (main, Nov 22 2022, 08:26:04) [GCC 10.4.0]\n",
      "Python version info: sys.version_info(major=3, minor=10, micro=8, releaselevel='final', serial=0)\n"
     ]
    }
   ],
   "source": [
    "import sys\n",
    "\n",
    "print(\"Python version:\", sys.version)\n",
    "\n",
    "\n",
    "print(\"Python version info:\", sys.version_info)\n"
   ]
  },
  {
   "cell_type": "markdown",
   "id": "ce9798b7-696c-4c90-b03e-6bec872755b5",
   "metadata": {},
   "source": [
    "Q9. Python support the creation of anonymous functions at runtime using a construct called?"
   ]
  },
  {
   "cell_type": "markdown",
   "id": "d0d93f3d-0dd2-40ec-84ac-7687547d3b05",
   "metadata": {},
   "source": [
    "\n",
    "Python supports the creation of anonymous functions at runtime using a construct called \"lambda\" functions.\n",
    "\n",
    "Lambda functions, also known as anonymous functions or lambda expressions, are a way to create small, one-line functions without formally defining them using the def keyword. They are useful when you need a simple function for a short period and don't want to define a full-fledged function using def.\n",
    "\n",
    "The syntax for a lambda function is as follows:"
   ]
  },
  {
   "cell_type": "code",
   "execution_count": 12,
   "id": "4565e1d2-6c8f-4de1-907d-590cf97f924a",
   "metadata": {},
   "outputs": [
    {
     "data": {
      "text/plain": [
       "<function __main__.<lambda>(arguments)>"
      ]
     },
     "execution_count": 12,
     "metadata": {},
     "output_type": "execute_result"
    }
   ],
   "source": [
    "lambda arguments: expression\n"
   ]
  },
  {
   "cell_type": "markdown",
   "id": "068ff655-f753-4c8c-b2d3-345b9ff87a27",
   "metadata": {},
   "source": [
    "Here's an example of a lambda function that adds two numbers:"
   ]
  },
  {
   "cell_type": "code",
   "execution_count": 13,
   "id": "b23c4ba0-4fc4-48a6-a191-48c603aca66d",
   "metadata": {},
   "outputs": [
    {
     "name": "stdout",
     "output_type": "stream",
     "text": [
      "8\n"
     ]
    }
   ],
   "source": [
    "add = lambda x, y: x + y\n",
    "\n",
    "result = add(5, 3)\n",
    "print(result)  \n"
   ]
  },
  {
   "cell_type": "markdown",
   "id": "e0d972d1-24c9-4132-8942-029906f49113",
   "metadata": {},
   "source": [
    "Q10. What does pip stands for python?"
   ]
  },
  {
   "cell_type": "markdown",
   "id": "b274a852-e371-4efc-a6f3-933b0ba9aa74",
   "metadata": {},
   "source": [
    "PIP stands for \"Pip Installs Packages\" or \"Pip Installs Python\" (recursive acronym). It is the package manager for Python, used to install, upgrade, and manage various Python packages and libraries. PIP simplifies the process of installing external modules from the Python Package Index (PyPI) and other repositories.\n",
    "\n",
    "With PIP, developers can easily install and manage third-party packages that extend Python's functionality, making it a crucial tool for Python developers. By using PIP, developers can effortlessly add new functionalities to their Python projects and leverage a wide range of community-contributed libraries."
   ]
  },
  {
   "cell_type": "markdown",
   "id": "4d7abd60-1a66-45f1-9c32-8c9134485f71",
   "metadata": {},
   "source": [
    "Q11. Mention a few in-built functions in python?\n",
    "\n"
   ]
  },
  {
   "cell_type": "markdown",
   "id": "0cdd36e4-a21f-48c3-aef9-aadc4b017e8b",
   "metadata": {},
   "source": [
    "Python comes with a rich set of built-in functions that are available for use without the need for importing any modules. Here are a few commonly used built-in functions in Python:\n",
    "\n",
    "print(): Used to display output on the console.\n",
    "\n",
    "len(): Returns the length of an object (e.g., string, list, tuple).\n",
    "\n",
    "type(): Returns the type of an object.\n",
    "\n",
    "int(), float(), str(): Convert values to integer, float, or string data types.\n",
    "\n",
    "input(): Reads input from the user.\n",
    "\n",
    "range(): Generates a sequence of numbers.\n",
    "\n",
    "sum(): Calculates the sum of elements in a sequence.\n",
    "\n",
    "max(), min(): Returns the maximum or minimum value from a sequence.\n",
    "\n",
    "abs(): Returns the absolute value of a number.\n",
    "\n",
    "round(): Rounds a floating-point number to the nearest integer.\n",
    "\n",
    "sorted(): Returns a sorted list from the elements of any iterable.\n",
    "\n",
    "enumerate(): Returns an enumerate object that pairs each element of an iterable with its index.\n",
    "\n",
    "map(): Applies a function to all items in an input list.\n",
    "\n",
    "filter(): Filters elements from an iterable based on a function's condition.\n",
    "\n",
    "zip(): Combines multiple iterables into a single iterable of tuples.\n",
    "\n",
    "open(): Opens a file for reading or writing.\n",
    "\n",
    "These are just a few examples of the many built-in functions available in Python. They are part of the Python standard library and can be used directly in your Python code without importing any additional modules."
   ]
  },
  {
   "cell_type": "markdown",
   "id": "e24a99b6-090f-4adb-80ae-950786c4e710",
   "metadata": {},
   "source": [
    "Q12. What is the possible maximum length of a Identifier in Python?"
   ]
  },
  {
   "cell_type": "markdown",
   "id": "e31f8a62-887a-478c-bbaf-75ad6b8e6a15",
   "metadata": {},
   "source": [
    "In Python, the possible maximum length of an identifier (variable name, function name, class name, etc.) is not explicitly defined or limited by the language specification. However, there are practical considerations and conventions that developers follow when naming identifiers.\n",
    "\n",
    "Python identifiers can be of any length, but it is recommended to keep them reasonably short and meaningful for better code readability. The Python style guide, known as PEP 8, suggests that the maximum line length for code should be 79 characters. This guideline indirectly encourages developers to keep identifier names within a reasonable length to fit comfortably within the recommended line length.\n",
    "\n",
    "While Python itself does not impose a strict maximum length for identifiers, most Python developers follow the PEP 8 guidelines and use descriptive yet concise names for their variables, functions, and classes to maintain clean and readable code."
   ]
  },
  {
   "cell_type": "markdown",
   "id": "d3526a1a-e6ca-4b66-8102-ced2485fc6b7",
   "metadata": {},
   "source": [
    "Q13. What are the benefit of using Python?"
   ]
  },
  {
   "cell_type": "markdown",
   "id": "6bf7125e-4a37-44dd-9421-efa183d88144",
   "metadata": {},
   "source": [
    "Python offers numerous benefits, which contribute to its popularity and widespread use in various fields. Some of the key benefits of using Python are:\n",
    "\n",
    "Simplicity and Readability: Python's simple and clean syntax makes it easy to read and write code, enhancing development speed and reducing the likelihood of errors. Its minimalist design emphasizes readability and reduces the cost of program maintenance.\n",
    "\n",
    "Versatility and Flexibility: Python is a versatile language that supports multiple programming paradigms, such as object-oriented, imperative, and functional programming. It can be used for a wide range of applications, including web development, data analysis, artificial intelligence, scientific computing, automation, and more.\n",
    "\n",
    "Large Standard Library: Python comes with a comprehensive standard library that offers a wide range of modules and functions for various tasks, allowing developers to accomplish many tasks without needing to install external libraries.\n",
    "\n",
    "Third-Party Libraries and Packages: Python has a vast ecosystem of third-party libraries and packages, such as NumPy, Pandas, TensorFlow, Django, Flask, and many more. These libraries extend Python's capabilities and provide solutions for specific domains, making development faster and more efficient.\n",
    "\n",
    "Community and Support: Python has a large and active community of developers who actively contribute to its growth and provide support through forums, mailing lists, and online resources. This vibrant community ensures that developers have access to a wealth of knowledge and assistance.\n",
    "\n",
    "Cross-Platform Compatibility: Python code can run on different operating systems (Windows, macOS, Linux) without modification, thanks to its platform independence and compatibility.\n",
    "\n",
    "Rapid Development: Python's high-level data structures and dynamic typing facilitate rapid application development and prototyping, saving time and resources during the development process.\n",
    "\n",
    "Open-Source: Python is an open-source language, meaning it is freely available, and anyone can contribute to its development. This fosters collaboration and innovation within the community.\n",
    "\n",
    "Integration Capabilities: Python can easily integrate with other languages, making it an excellent choice for projects that require interoperability with existing code written in different languages.\n",
    "\n",
    "Learning Curve: Python's easy-to-learn nature makes it an excellent programming language for beginners, students, and anyone new to coding. Its gentle learning curve encourages new developers to dive into programming without feeling overwhelmed.\n",
    "\n",
    "These are just some of the benefits that Python offers, making it a popular and powerful language for a wide range of applications, from small scripts to large-scale software development and complex data analysis projects."
   ]
  },
  {
   "cell_type": "markdown",
   "id": "e294b063-5ce9-459e-bfe7-cf517dfac7b2",
   "metadata": {},
   "source": [
    "Q14. How is memory managed in Python?"
   ]
  },
  {
   "cell_type": "markdown",
   "id": "66f85e78-2791-410d-987e-18ce5ba4de0e",
   "metadata": {},
   "source": [
    "Memory management in Python is primarily based on an automatic memory management system known as \"garbage collection.\" Python uses a combination of techniques to manage memory efficiently and automatically, relieving the programmer from manual memory management tasks.\n",
    "\n",
    "Here's how memory management works in Python:\n",
    "\n",
    "Reference Counting: Python uses reference counting as the primary mechanism for memory management. Each object in Python has a reference count, which is the number of references pointing to that object. When an object's reference count drops to zero, meaning there are no more references to that object, Python automatically deallocates the memory occupied by that object. This process is known as garbage collection.\n",
    "\n",
    "Garbage Collection (GC): In addition to reference counting, Python employs a cyclic garbage collector to handle circular references, where objects reference each other in a way that their reference count never drops to zero. The cyclic garbage collector detects and cleans up such circular references, ensuring that no memory leaks occur.\n",
    "\n",
    "Memory Pool: Python uses a memory pool called \"Python Memory Manager\" to efficiently manage memory for small objects. The memory manager preallocates fixed-sized blocks of memory and manages them in pools. When an object of a standard type (e.g., int, float, tuple) is created, Python obtains memory from this pool, reducing the overhead of frequent memory allocation and deallocation.\n",
    "\n",
    "Memory Compression and Release: Python's memory manager handles small and large memory blocks differently. For small blocks, Python uses a \"freelist\" to manage free blocks of memory efficiently. For larger blocks, Python uses platform-specific system calls to allocate and deallocate memory.\n",
    "\n",
    "Automatic Memory Management: Python's memory management is automatic, meaning the developer does not need to explicitly allocate or deallocate memory. The garbage collector runs in the background, detecting and cleaning up unreachable objects, freeing up memory for reuse.\n",
    "\n",
    "The combination of reference counting and garbage collection ensures that Python efficiently manages memory, minimizing memory leaks and making it a memory-safe programming language. Developers can focus on writing code without worrying about low-level memory management tasks."
   ]
  },
  {
   "cell_type": "markdown",
   "id": "1434989a-3e26-443a-8600-89b56a8c1985",
   "metadata": {},
   "source": [
    "Q15. How to install python on windows and set path Variables?"
   ]
  },
  {
   "cell_type": "markdown",
   "id": "5823535a-3b92-4843-b0d5-e6376af3666a",
   "metadata": {},
   "source": [
    "To install Python on Windows and set the path variables, follow these steps:\n",
    "\n",
    "Download Python:\n",
    "\n",
    "Go to the official Python website (https://www.python.org/downloads/) and download the latest stable version of Python for Windows. Choose the appropriate installer based on your system architecture (32-bit or 64-bit). For most modern computers, the 64-bit version is recommended.\n",
    "\n",
    "Run the Installer:\n",
    "\n",
    "Double-click the downloaded installer to start the installation process. Make sure to check the box that says \"Add Python X.X to PATH\" during the installation. This will automatically set the necessary environment variables to make Python accessible from the command prompt.\n",
    "\n",
    "Verify Installation:\n",
    "\n",
    "Open the Command Prompt (Press Win + R, type cmd, and press Enter) and type python --version. This should display the installed Python version. If you see the version number, Python is successfully installed.\n",
    "\n",
    "Set PATH Variables (If not added during installation):\n",
    "\n",
    "If you didn't check the \"Add Python X.X to PATH\" during installation or if you have multiple Python versions installed, you may need to set the PATH variables manually. Follow these steps:\n",
    "\n",
    "Right-click on \"This PC\" (or \"My Computer\") and select \"Properties.\"\n",
    "Click on \"Advanced system settings\" on the left sidebar.\n",
    "In the System Properties window, click the \"Environment Variables\" button at the bottom.\n",
    "Under the \"System variables\" section, scroll down and find the \"Path\" variable. Select it and click the \"Edit\" button.\n",
    "\n",
    "Click \"New\" and add the path to the Python installation directory. The default path is usually C:\\PythonXX (where XX represents the version number).\n",
    "Click \"OK\" to save the changes.\n",
    "Verify PATH Variables:\n",
    "\n",
    "Open a new Command Prompt (or restart your existing Command Prompt) and type python --version again. If it displays the Python version, you have successfully set the PATH variables.\n",
    "\n",
    "That's it! Python is now installed on your Windows machine, and you can start writing and executing Python code from the Command Prompt or any other Python-compatible development environment."
   ]
  },
  {
   "cell_type": "markdown",
   "id": "87e3415d-5782-4b90-85b2-476ce622293d",
   "metadata": {},
   "source": [
    "Q16. Is indentation required in Python?"
   ]
  },
  {
   "cell_type": "code",
   "execution_count": null,
   "id": "287fb9ff-6036-4fa5-aa74-c917bf5aa693",
   "metadata": {},
   "outputs": [],
   "source": []
  }
 ],
 "metadata": {
  "kernelspec": {
   "display_name": "Python 3 (ipykernel)",
   "language": "python",
   "name": "python3"
  },
  "language_info": {
   "codemirror_mode": {
    "name": "ipython",
    "version": 3
   },
   "file_extension": ".py",
   "mimetype": "text/x-python",
   "name": "python",
   "nbconvert_exporter": "python",
   "pygments_lexer": "ipython3",
   "version": "3.10.8"
  }
 },
 "nbformat": 4,
 "nbformat_minor": 5
}
