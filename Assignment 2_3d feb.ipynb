{
 "cells": [
  {
   "cell_type": "markdown",
   "id": "db4d768d-d82c-4507-b84d-6605628365d8",
   "metadata": {},
   "source": [
    "Q1. Which keyword is used to create a function? Create a function to return a list of odd numbers in the\n",
    "range of 1 to 25."
   ]
  },
  {
   "cell_type": "markdown",
   "id": "3cb56b6a-fa1e-41a3-afbb-1cfca2053bff",
   "metadata": {},
   "source": [
    "\n",
    "The def keyword is used to create a function in Python. \n",
    "List of odd numbers in the range of 1 to 25."
   ]
  },
  {
   "cell_type": "code",
   "execution_count": 1,
   "id": "8e6f1d39-cb77-41e1-80c0-5d4c75814970",
   "metadata": {},
   "outputs": [],
   "source": [
    "def oddnumbers():\n",
    "    odd_num=[]\n",
    "    for i in range(1,26):\n",
    "        if i%2 !=0:\n",
    "            odd_num.append(i)\n",
    "    return odd_num        "
   ]
  },
  {
   "cell_type": "code",
   "execution_count": 2,
   "id": "fece7086-a4f0-4bda-a448-ef6c91db581c",
   "metadata": {},
   "outputs": [
    {
     "data": {
      "text/plain": [
       "[1, 3, 5, 7, 9, 11, 13, 15, 17, 19, 21, 23, 25]"
      ]
     },
     "execution_count": 2,
     "metadata": {},
     "output_type": "execute_result"
    }
   ],
   "source": [
    "oddnumbers()"
   ]
  },
  {
   "cell_type": "markdown",
   "id": "51736eff-6ced-474e-8069-2c2b8468dcfb",
   "metadata": {},
   "source": [
    "Q2.Why *args and **kwargs is used in some functions? Create a function each for *args and **kwargs\n",
    "to demonstrate their use."
   ]
  },
  {
   "cell_type": "markdown",
   "id": "dfee08d9-db88-4390-826c-c4e58dadc9be",
   "metadata": {},
   "source": [
    "The *args syntax allows a function to accept a variable number of positional arguments. It collects these arguments into a tuple within the function. The name args is just a convention; you can choose any valid variable name preceded by a single asterisk. Here's an example function that demonstrates the use of *args:"
   ]
  },
  {
   "cell_type": "code",
   "execution_count": 3,
   "id": "b77a9cc7-08b2-403a-b645-6754af09c893",
   "metadata": {},
   "outputs": [],
   "source": [
    "def test(*args):\n",
    "    return args"
   ]
  },
  {
   "cell_type": "code",
   "execution_count": 4,
   "id": "98a8e2bb-45e2-4f77-b581-0a50e5b71635",
   "metadata": {},
   "outputs": [
    {
     "data": {
      "text/plain": [
       "(1, 2, 3, 4, 5, 6, 7, 8)"
      ]
     },
     "execution_count": 4,
     "metadata": {},
     "output_type": "execute_result"
    }
   ],
   "source": [
    "test(1,2,3,4,5,6,7,8)"
   ]
  },
  {
   "cell_type": "markdown",
   "id": "86d558ec-a49e-4947-a3e6-b3679cb86b89",
   "metadata": {},
   "source": [
    "The **kwargs syntax allows a function to accept a variable number of keyword arguments, which are collected into a dictionary within the function. The name kwargs is just a convention; you can choose any valid variable name preceded by a double asterisk. Here's an example function that demonstrates the use of **kwargs:\n",
    "\n"
   ]
  },
  {
   "cell_type": "code",
   "execution_count": 5,
   "id": "47104777-9038-4b11-913f-2bbc9b332d35",
   "metadata": {},
   "outputs": [],
   "source": [
    "def test2(**kwargs):\n",
    "    return kwargs"
   ]
  },
  {
   "cell_type": "code",
   "execution_count": 10,
   "id": "8682ff38-5b6e-4c27-95fc-c0f6723ed374",
   "metadata": {},
   "outputs": [
    {
     "data": {
      "text/plain": [
       "{}"
      ]
     },
     "execution_count": 10,
     "metadata": {},
     "output_type": "execute_result"
    }
   ],
   "source": [
    "test2()"
   ]
  },
  {
   "cell_type": "code",
   "execution_count": 12,
   "id": "858a616c-a7e6-4e71-a308-406e4cd3c089",
   "metadata": {},
   "outputs": [
    {
     "data": {
      "text/plain": [
       "{'a': 'aman', 'b': 'Sahul', 'c': 23, 'd': 34.33}"
      ]
     },
     "execution_count": 12,
     "metadata": {},
     "output_type": "execute_result"
    }
   ],
   "source": [
    "test2(a=\"aman\", b =\"Sahul\" ,c=23,d=34.33)"
   ]
  },
  {
   "cell_type": "markdown",
   "id": "1c6761a0-8a62-4f99-8463-bb12f43b6e78",
   "metadata": {},
   "source": [
    "Q3. What is an iterator in python? Name the method used to initialise the iterator object and the method\n",
    "used for iteration. Use these methods to print the first five elements of the given list [2, 4, 6, 8, 10, 12, 14,\n",
    "16, 18, 20]."
   ]
  },
  {
   "cell_type": "markdown",
   "id": "681aa348-9d2c-4d70-9616-f1a88d0b687b",
   "metadata": {},
   "source": [
    "Iterator=n iterator is an object that represents a stream of data and provides a way to access its elements one by one.\n",
    "\n",
    "the iterator protocol, which requires two methods: __iter__() and __next__().\n",
    "\n",
    "1.__iter__() Method: This method initializes the iterator object and returns itself. It is called when the iterator is created.\n",
    "\n",
    "2.__next__() Method: This method returns the next element in the iterator. It is called repeatedly to fetch each subsequent element. When there are no more elements, it raises the StopIteration exception to signal the end of iteration."
   ]
  },
  {
   "cell_type": "code",
   "execution_count": 13,
   "id": "7ed05496-ff3d-4527-8b2f-9ccd4aa48bbd",
   "metadata": {},
   "outputs": [],
   "source": [
    "l=[2,4,6,8,10,12,14,16,18,20]"
   ]
  },
  {
   "cell_type": "code",
   "execution_count": 16,
   "id": "b8971547-c319-4a3d-bfc9-06a011772d42",
   "metadata": {},
   "outputs": [
    {
     "name": "stdout",
     "output_type": "stream",
     "text": [
      "2\n",
      "4\n",
      "6\n",
      "8\n",
      "10\n"
     ]
    }
   ],
   "source": [
    "i=iter(l)\n",
    "\n",
    "for _ in range(5):\n",
    "    element=next(i)\n",
    "    print(element)"
   ]
  },
  {
   "cell_type": "markdown",
   "id": "1d06ee50-0d12-438a-8d76-76f5e1845f9a",
   "metadata": {},
   "source": [
    "Q4. What is a generator function in python? Why yield keyword is used? Give an example of a generator\n",
    "function."
   ]
  },
  {
   "cell_type": "markdown",
   "id": "0a5ec7c3-36f1-471d-af8e-043b1c4e85f4",
   "metadata": {},
   "source": [
    "Generator function is a special type of function that generates an iterator. It uses the yield keyword instead of return to produce a sequence of values. When called, a generator function returns a generator object, which can be iterated over to retrieve the generated values one at a time."
   ]
  },
  {
   "cell_type": "markdown",
   "id": "e7ce3e4f-d2c6-4938-aa21-7601d8bd026e",
   "metadata": {},
   "source": [
    "The yield keyword is used within a generator function to produce a value and pause the function's execution temporarily. It allows the generator to remember its internal state, such as variable values and the next execution point, between iterations. When the generator is iterated again, it resumes execution from where it left off, continuing until the next yield statement is encountered."
   ]
  },
  {
   "cell_type": "code",
   "execution_count": 18,
   "id": "4d40b9c9-5986-473e-9f69-efb7666e41bc",
   "metadata": {},
   "outputs": [
    {
     "name": "stdout",
     "output_type": "stream",
     "text": [
      "0\n",
      "1\n",
      "1\n",
      "2\n",
      "3\n",
      "5\n",
      "8\n",
      "13\n",
      "21\n",
      "34\n"
     ]
    }
   ],
   "source": [
    "def fab():\n",
    "    a,b=0,1\n",
    "    while True:\n",
    "        yield a\n",
    "        a,b=b,a+b\n",
    "        \n",
    "fab=fab()\n",
    "\n",
    "for _ in range(10):\n",
    "    print(next(fab))\n",
    "            "
   ]
  },
  {
   "cell_type": "markdown",
   "id": "c4fbf961-754d-460e-b199-e4a7f578618f",
   "metadata": {},
   "source": [
    "Q5. Create a generator function for prime numbers less than 1000. Use the next() method to print the\n",
    "first 20 prime numbers."
   ]
  },
  {
   "cell_type": "code",
   "execution_count": 2,
   "id": "6bd72ff8-1d7e-4f82-b2a0-3800b9afb09d",
   "metadata": {},
   "outputs": [
    {
     "name": "stdout",
     "output_type": "stream",
     "text": [
      "2\n",
      "3\n",
      "5\n",
      "7\n",
      "11\n",
      "13\n",
      "17\n",
      "19\n",
      "23\n",
      "29\n",
      "31\n",
      "37\n",
      "41\n",
      "43\n",
      "47\n",
      "53\n",
      "59\n",
      "61\n",
      "67\n",
      "71\n"
     ]
    }
   ],
   "source": [
    "def prime_generator():\n",
    "    yield 2  \n",
    "    primes = [2]\n",
    "    num = 3\n",
    "\n",
    "    while num < 1000:\n",
    "        is_prime = True\n",
    "        for prime in primes:\n",
    "            if prime * prime > num:\n",
    "                break\n",
    "            if num % prime == 0:\n",
    "                is_prime = False\n",
    "                break\n",
    "\n",
    "        if is_prime:\n",
    "            primes.append(num)\n",
    "            yield num\n",
    "\n",
    "        num += 2\n",
    "\n",
    "prime_numbers = prime_generator()\n",
    "\n",
    "for _ in range(20):\n",
    "    prime = next(prime_numbers)\n",
    "    print(prime)\n"
   ]
  },
  {
   "cell_type": "markdown",
   "id": "a161093e-a776-4fe1-b289-2002ac67b40a",
   "metadata": {},
   "source": [
    "Q6. Write a python program to print the first 10 Fibonacci numbers using a while loop."
   ]
  },
  {
   "cell_type": "code",
   "execution_count": 5,
   "id": "047ecaff-600f-45e6-9247-5dc7d743e0d1",
   "metadata": {},
   "outputs": [
    {
     "name": "stdin",
     "output_type": "stream",
     "text": [
      " 10\n"
     ]
    },
    {
     "name": "stdout",
     "output_type": "stream",
     "text": [
      "0\n",
      "1\n",
      "1\n",
      "2\n",
      "3\n",
      "5\n",
      "8\n",
      "13\n",
      "21\n",
      "34\n"
     ]
    }
   ],
   "source": [
    "num=int(input())\n",
    "a,b=0,1\n",
    "i=0\n",
    "\n",
    "while i <num:\n",
    "    print(a)\n",
    "    c=a+b\n",
    "    a=b\n",
    "    b=c\n",
    "    i+=1\n"
   ]
  },
  {
   "cell_type": "markdown",
   "id": "bf0484f0-b9a6-4473-afc6-b5ba43270016",
   "metadata": {},
   "source": [
    "Q7. Write a List Comprehension to iterate through the given string: ‘pwskills’.\n",
    "\n",
    "Expected output: ['p', 'w', 's', 'k', 'i', 'l', 'l', 's']"
   ]
  },
  {
   "cell_type": "code",
   "execution_count": 7,
   "id": "a2e0b3c4-f1db-419f-9ba6-e1770a994594",
   "metadata": {},
   "outputs": [
    {
     "name": "stdout",
     "output_type": "stream",
     "text": [
      "['p', 'w', 's', 'k', 'i', 'l', 'l', 's']\n"
     ]
    }
   ],
   "source": [
    "a = 'pwskills'\n",
    "b = [i for i in a]\n",
    "print(b)\n"
   ]
  },
  {
   "cell_type": "markdown",
   "id": "7dd8697c-a5c1-4792-8bad-f0e953033111",
   "metadata": {},
   "source": [
    "Q8. Write a python program to check whether a given number is Palindrome or not using a while loop."
   ]
  },
  {
   "cell_type": "code",
   "execution_count": 12,
   "id": "150b0639-6966-44c1-a622-5a4b97dadfb6",
   "metadata": {},
   "outputs": [
    {
     "name": "stdin",
     "output_type": "stream",
     "text": [
      "Enter a number:  1221\n"
     ]
    },
    {
     "name": "stdout",
     "output_type": "stream",
     "text": [
      "1221 is a palindrome\n"
     ]
    }
   ],
   "source": [
    "def is_palindrome(number):\n",
    "    \n",
    "    number_str = str(number)\n",
    "\n",
    "    \n",
    "    a= 0\n",
    "    b = len(number_str) - 1\n",
    "\n",
    "    \n",
    "    while a < b:\n",
    "        \n",
    "        if number_str[a] != number_str[b]:\n",
    "            return False\n",
    "        \n",
    "        \n",
    "        a += 1\n",
    "        b -= 1\n",
    "\n",
    "    return True\n",
    "\n",
    "\n",
    "num = int(input(\"Enter a number: \"))\n",
    "if is_palindrome(num):\n",
    "    print(f\"{num} is a palindrome\")\n",
    "else:\n",
    "    print(f\"{num} is not a palindrome\")\n"
   ]
  },
  {
   "cell_type": "markdown",
   "id": "3a7be917-4192-4270-8e41-269d94861d17",
   "metadata": {},
   "source": [
    "Q9. Write a code to print odd numbers from 1 to 100 using list comprehension"
   ]
  },
  {
   "cell_type": "code",
   "execution_count": null,
   "id": "06b043f7-f263-4ce4-9f21-9e4bc70dfb6e",
   "metadata": {},
   "outputs": [],
   "source": [
    "[ for i in range "
   ]
  }
 ],
 "metadata": {
  "kernelspec": {
   "display_name": "Python 3 (ipykernel)",
   "language": "python",
   "name": "python3"
  },
  "language_info": {
   "codemirror_mode": {
    "name": "ipython",
    "version": 3
   },
   "file_extension": ".py",
   "mimetype": "text/x-python",
   "name": "python",
   "nbconvert_exporter": "python",
   "pygments_lexer": "ipython3",
   "version": "3.10.8"
  }
 },
 "nbformat": 4,
 "nbformat_minor": 5
}
