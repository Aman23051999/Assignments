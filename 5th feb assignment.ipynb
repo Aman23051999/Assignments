{
 "cells": [
  {
   "cell_type": "markdown",
   "id": "28099bc9-cc2e-46c3-a7df-e77dc7865f7a",
   "metadata": {},
   "source": [
    "Q1. Explain Class and Object with respect to Object-Oriented Programming. Give a suitable example."
   ]
  },
  {
   "cell_type": "markdown",
   "id": "2c9fa757-6829-424b-a48c-3613256050ae",
   "metadata": {},
   "source": [
    "In Object-Oriented Programming (OOP), a class and an object are two fundamental concepts that form the building blocks of the paradigm. They are used to model real-world entities and their interactions in a structured and organized manner."
   ]
  },
  {
   "cell_type": "markdown",
   "id": "902b1b1c-a5cc-4738-b24a-34e2e46063a7",
   "metadata": {},
   "source": [
    "Class:\n",
    "A class is a blueprint or a template that defines the structure and behavior of objects. It serves as a blueprint for creating objects, specifying what attributes (data) the objects will have and what methods (functions) they can perform. In other words, a class defines the common attributes and behaviors that multiple objects of the same type (or class) will possess.\n",
    "\n",
    "A class acts as a user-defined data type, encapsulating data and the operations that can be performed on that data. It provides a clear interface for interacting with objects and hides the internal implementation details, promoting data abstraction and encapsulation.\n",
    "\n",
    "Object:\n",
    "An object is an instance of a class, representing a specific entity based on the class's blueprint. It is a concrete representation of the abstract class and possesses the attributes and behaviors defined in the class. When you create an object from a class, you are creating a specific instance that can have its own unique values for the class attributes.\n",
    "In simple terms, an object is a real-world entity that is created using the class's blueprint.\n",
    "\n",
    "Example:\n"
   ]
  },
  {
   "cell_type": "code",
   "execution_count": 1,
   "id": "b174f6c4-a1d8-4cf9-b2ed-c02ec298c183",
   "metadata": {},
   "outputs": [],
   "source": [
    "class car :\n",
    "    \n",
    "    def __init__(self,model,year,make):\n",
    "        self.model=model\n",
    "        self.year=year\n",
    "        self.make=make\n",
    "        \n",
    "    def start(self):\n",
    "        print(f\"The {self.make} {self.model} is starting.\")\n",
    "        \n",
    "    def drive(self):\n",
    "        print(f\"The {self.make} {self.model} is driving.\")  "
   ]
  },
  {
   "cell_type": "code",
   "execution_count": 2,
   "id": "bb0c2721-064b-4e03-8f3d-fe6e7cb70b96",
   "metadata": {},
   "outputs": [],
   "source": [
    "car1=car(\"civic\",2022,\"TATA\")"
   ]
  },
  {
   "cell_type": "code",
   "execution_count": 3,
   "id": "0f42ed3b-c7c7-4505-b3c6-4a1fe567833c",
   "metadata": {},
   "outputs": [
    {
     "name": "stdout",
     "output_type": "stream",
     "text": [
      "The TATA civic is starting.\n"
     ]
    }
   ],
   "source": [
    "car1.start()"
   ]
  },
  {
   "cell_type": "code",
   "execution_count": 4,
   "id": "6d5949e3-99a3-41e4-b305-0ff848d281c7",
   "metadata": {},
   "outputs": [
    {
     "name": "stdout",
     "output_type": "stream",
     "text": [
      "The TATA civic is driving.\n"
     ]
    }
   ],
   "source": [
    "car1.drive()"
   ]
  },
  {
   "cell_type": "markdown",
   "id": "1a49a5f5-d69c-4b3f-a22a-2e6b2e458877",
   "metadata": {},
   "source": [
    "Q2. Name the four pillars of OOPs."
   ]
  },
  {
   "cell_type": "markdown",
   "id": "07aadd5f-afd3-4559-9b6a-428b13c5ecf9",
   "metadata": {},
   "source": [
    "The four pillars of Object-Oriented Programming (OOP) are:\n",
    "\n",
    "Encapsulation: Encapsulation is the bundling of data (attributes) and methods (functions) that operate on that data within a single unit called a class. It hides the internal details of how the data and methods are implemented, exposing only a well-defined interface to the outside world. Encapsulation promotes data hiding and abstraction, making it easier to manage and maintain complex systems.\n",
    "\n",
    "Abstraction: Abstraction is the process of simplifying complex systems by providing a clear and concise representation of the essential features. It allows you to focus on the relevant details while ignoring unnecessary complexities. In OOP, abstraction is achieved through abstract classes and interfaces, which define the structure and behavior of objects without providing the implementation details.\n",
    "\n",
    "Inheritance: Inheritance is the ability of a class (subclass or derived class) to inherit properties and behaviors from another class (superclass or base class). The subclass can extend and specialize the functionality of the superclass, reusing and customizing its features. Inheritance allows for code reuse, promotes the \"is-a\" relationship, and facilitates the creation of hierarchical class structures.\n",
    "\n",
    "Polymorphism: Polymorphism is the ability of objects to take on multiple forms. It allows a single interface (method or operator) to represent different behaviors based on the context or the types of objects it interacts with. There are two types of polymorphism: compile-time (method overloading) and runtime (method overriding). Polymorphism simplifies code design and promotes flexibility and extensibility.\n",
    "\n",
    "These four pillars provide a solid foundation for designing and implementing object-oriented systems, enabling the modeling of real-world entities and their interactions in a structured, reusable, and maintainable manner."
   ]
  },
  {
   "cell_type": "markdown",
   "id": "e4a08d2f-77fd-479e-bfe0-a04c19c7d89f",
   "metadata": {},
   "source": [
    "Q3. Explain why the __init__() function is used. Give a suitable example."
   ]
  },
  {
   "cell_type": "markdown",
   "id": "69344780-7cdd-451c-966d-49f0d3adbf03",
   "metadata": {},
   "source": [
    "The __init__() function is a special method in Python used as a constructor for initializing objects of a class. It is automatically called when a new instance of a class is created. The purpose of the __init__() function is to set the initial state of the object and perform any necessary setup tasks."
   ]
  },
  {
   "cell_type": "markdown",
   "id": "e4357154-5b28-449a-863e-ec557cc43681",
   "metadata": {},
   "source": [
    "Example:-"
   ]
  },
  {
   "cell_type": "code",
   "execution_count": 1,
   "id": "b264f913-8231-4e11-95c8-06a1a4387a87",
   "metadata": {},
   "outputs": [
    {
     "name": "stdout",
     "output_type": "stream",
     "text": [
      "Toyota Corolla 2022 Blue\n",
      "Honda Civic 2023 Red\n",
      "30\n",
      "20\n"
     ]
    }
   ],
   "source": [
    "\n",
    "class Car:\n",
    "    def __init__(self, make, model, year, color):\n",
    "        self.make = make\n",
    "        self.model = model\n",
    "        self.year = year\n",
    "        self.color = color\n",
    "        self.current_speed = 0\n",
    "\n",
    "    def accelerate(self, speed_increase):\n",
    "        self.current_speed += speed_increase\n",
    "\n",
    "    def brake(self, speed_decrease):\n",
    "        self.current_speed -= speed_decrease\n",
    "\n",
    "\n",
    "car1 = Car(\"Toyota\", \"Corolla\", 2022, \"Blue\")\n",
    "car2 = Car(\"Honda\", \"Civic\", 2023, \"Red\")\n",
    "\n",
    "\n",
    "print(car1.make, car1.model, car1.year, car1.color)  \n",
    "print(car2.make, car2.model, car2.year, car2.color) \n",
    "\n",
    "car1.accelerate(30)\n",
    "car2.accelerate(20)\n",
    "\n",
    "print(car1.current_speed)  \n",
    "print(car2.current_speed)  \n"
   ]
  },
  {
   "cell_type": "markdown",
   "id": "ee6a667b-86f0-4492-b9f2-80d8b0f129e3",
   "metadata": {},
   "source": [
    "Q4. Why self is used in OOPs?"
   ]
  },
  {
   "cell_type": "markdown",
   "id": "abe4c4e5-0052-4c04-bac0-044da649c449",
   "metadata": {},
   "source": [
    "In Object-Oriented Programming (OOP), the self keyword is used as the first parameter in class method definitions. It represents the instance of the class and allows access to the attributes and methods of that class within the methods.\n",
    "\n",
    "When you call a method on an object, Python automatically passes the object itself as the first argument to the method. By convention, this first parameter is named self, but you can technically name it anything you like (although using self is strongly recommended for clarity and consistency with Python conventions).\n",
    "\n",
    "The use of self is crucial in OOP for the following reasons:\n",
    "\n",
    "Accessing attributes and methods: By using self, you can access instance variables (attributes) and other methods of the class within its methods. This enables encapsulation and data hiding, as you can control how attributes are accessed and modified from outside the class.\n",
    "\n",
    "Differentiating between instance and class variables: self helps distinguish between instance variables and class variables. Instance variables belong to a specific instance of the class and have different values for each object. On the other hand, class variables have the same value shared by all instances of the class.\n",
    "\n",
    "Creating instance-specific behavior: Methods within a class can be designed to perform actions specific to the instance they belong to. Each instance can have its own unique behavior while using the same method name, thanks to the self parameter.\n",
    "\n",
    "Enabling inheritance: When a class inherits from another class, self allows the child class to override methods from the parent class and still access its own version of the method using super()."
   ]
  },
  {
   "cell_type": "markdown",
   "id": "8d109ca3-5295-43f9-b91e-f0299c75926e",
   "metadata": {},
   "source": [
    "Q5. What is inheritance? Give an example for each type of inheritance."
   ]
  },
  {
   "cell_type": "markdown",
   "id": "2005fa6d-a7a7-45fe-b12c-1fb3e80d910e",
   "metadata": {},
   "source": [
    "Inheritance is a fundamental concept in object-oriented programming (OOP) that allows a class to inherit properties and behaviors from another class. The class that inherits from another class is called the \"subclass\" or \"derived class,\" and the class from which it inherits is called the \"superclass\" or \"base class.\" Inheritance enables code reuse, promotes a hierarchical structure in classes, and allows the creation of more specialized classes based on existing ones.\n",
    "\n",
    "There are several types of inheritance in OOP:\n",
    "\n",
    "Single Inheritance:\n",
    "Single inheritance involves a subclass inheriting from a single superclass. It forms a simple one-to-one inheritance relationship."
   ]
  },
  {
   "cell_type": "markdown",
   "id": "6d2d2c32-bfbd-4bb1-8344-be2edfe4ac7c",
   "metadata": {},
   "source": [
    "Example:-"
   ]
  },
  {
   "cell_type": "code",
   "execution_count": 3,
   "id": "25dae449-a539-4fd7-8284-917b48ea0efa",
   "metadata": {},
   "outputs": [
    {
     "name": "stdout",
     "output_type": "stream",
     "text": [
      "Buddy\n",
      "Woof!\n"
     ]
    }
   ],
   "source": [
    "class Animal:\n",
    "    def __init__(self, name):\n",
    "        self.name = name\n",
    "\n",
    "    def speak(self):\n",
    "        pass\n",
    "\n",
    "class Dog(Animal):\n",
    "    def speak(self):\n",
    "        return \"Woof!\"\n",
    "\n",
    "dog = Dog(\"Buddy\")\n",
    "print(dog.name)     \n",
    "print(dog.speak())  \n",
    "\n"
   ]
  },
  {
   "cell_type": "markdown",
   "id": "cf6d0125-0f0a-444c-9619-bc0312826234",
   "metadata": {},
   "source": [
    "Multiple Inheritance:\n",
    "Multiple inheritance involves a subclass inheriting from multiple superclasses. This allows a class to combine features from different parent classes."
   ]
  },
  {
   "cell_type": "markdown",
   "id": "6669d425-8935-4c05-844c-f89631a644c2",
   "metadata": {},
   "source": [
    "Example:-"
   ]
  },
  {
   "cell_type": "code",
   "execution_count": 4,
   "id": "ecb7c789-d02f-422d-8e38-02a605fd86b9",
   "metadata": {},
   "outputs": [
    {
     "name": "stdout",
     "output_type": "stream",
     "text": [
      "Polly\n",
      "Chirp!\n",
      "Flying high!\n"
     ]
    }
   ],
   "source": [
    "class Bird:\n",
    "    def __init__(self, name):\n",
    "        self.name = name\n",
    "\n",
    "    def speak(self):\n",
    "        return \"Chirp!\"\n",
    "\n",
    "class CanFly:\n",
    "    def fly(self):\n",
    "        return \"Flying high!\"\n",
    "\n",
    "class FlyingBird(Bird, CanFly):\n",
    "    pass\n",
    "\n",
    "parrot = FlyingBird(\"Polly\")\n",
    "print(parrot.name)      \n",
    "print(parrot.speak())   \n",
    "print(parrot.fly())     \n"
   ]
  },
  {
   "cell_type": "markdown",
   "id": "94e28d91-d9ab-4879-b01c-ea66203d8ef1",
   "metadata": {},
   "source": [
    "Multilevel Inheritance:\n",
    "Multilevel inheritance involves a subclass inheriting from a superclass, which in turn inherits from another superclass. This forms a chain of inheritance.\n",
    "Example:"
   ]
  },
  {
   "cell_type": "code",
   "execution_count": 5,
   "id": "3cddf510-89dd-4824-9c1f-62de85785976",
   "metadata": {},
   "outputs": [
    {
     "name": "stdout",
     "output_type": "stream",
     "text": [
      "Buddy\n",
      "Woof!\n"
     ]
    }
   ],
   "source": [
    "class Animal:\n",
    "    def __init__(self, name):\n",
    "        self.name = name\n",
    "\n",
    "    def speak(self):\n",
    "        pass\n",
    "\n",
    "class Dog(Animal):\n",
    "    def speak(self):\n",
    "        return \"Woof!\"\n",
    "\n",
    "class Labrador(Dog):\n",
    "    pass\n",
    "\n",
    "labrador = Labrador(\"Buddy\")\n",
    "print(labrador.name)     \n",
    "print(labrador.speak())  \n"
   ]
  },
  {
   "cell_type": "code",
   "execution_count": null,
   "id": "2eaff39a-1066-4b5f-bc89-2ed63783742d",
   "metadata": {},
   "outputs": [],
   "source": []
  }
 ],
 "metadata": {
  "kernelspec": {
   "display_name": "Python 3 (ipykernel)",
   "language": "python",
   "name": "python3"
  },
  "language_info": {
   "codemirror_mode": {
    "name": "ipython",
    "version": 3
   },
   "file_extension": ".py",
   "mimetype": "text/x-python",
   "name": "python",
   "nbconvert_exporter": "python",
   "pygments_lexer": "ipython3",
   "version": "3.10.8"
  }
 },
 "nbformat": 4,
 "nbformat_minor": 5
}
