{
  "nbformat": 4,
  "nbformat_minor": 0,
  "metadata": {
    "colab": {
      "provenance": []
    },
    "kernelspec": {
      "name": "python3",
      "display_name": "Python 3"
    },
    "language_info": {
      "name": "python"
    }
  },
  "cells": [
    {
      "cell_type": "markdown",
      "source": [
        "Q1. Explain with an example each when to use a for loop and a while loop."
      ],
      "metadata": {
        "id": "BvITExl1yin5"
      }
    },
    {
      "cell_type": "markdown",
      "source": [
        "1. When to use a for loop:\n",
        "    A for loop is generally used when you know the number of iterations or the collection you want to iterate over. It is suitable\n",
        "    for situation where you have a predefined sequence iterable and want to perform a certain action for each item in that sequence. Here's an example:"
      ],
      "metadata": {
        "id": "hBcU6AXfyrqW"
      }
    },
    {
      "cell_type": "code",
      "source": [
        "l1=[1,\"Aman\",True,False,23,65,89]"
      ],
      "metadata": {
        "id": "JZiheiYBywIk"
      },
      "execution_count": 1,
      "outputs": []
    },
    {
      "cell_type": "code",
      "source": [
        "for i in l1:\n",
        "    print(i)"
      ],
      "metadata": {
        "colab": {
          "base_uri": "https://localhost:8080/"
        },
        "id": "gFcdUydIy0Tw",
        "outputId": "3f6033a8-178c-477c-f149-f09d301a51be"
      },
      "execution_count": 2,
      "outputs": [
        {
          "output_type": "stream",
          "name": "stdout",
          "text": [
            "1\n",
            "Aman\n",
            "True\n",
            "False\n",
            "23\n",
            "65\n",
            "89\n"
          ]
        }
      ]
    },
    {
      "cell_type": "markdown",
      "source": [
        "2. When to use a while loop:\n",
        "A while loop is used when you want to repeat a block of code until a specific condition is no longer true. It is suitable for situations where the number of iterations is unknown or when you want to repeatedly execute a block of code based on a condition. Here's an example:"
      ],
      "metadata": {
        "id": "L-RfYh4gytJF"
      }
    },
    {
      "cell_type": "code",
      "source": [
        "i=0\n",
        "\n",
        "while i<10:\n",
        "    print(i)\n",
        "    i=i+1"
      ],
      "metadata": {
        "colab": {
          "base_uri": "https://localhost:8080/"
        },
        "id": "pRb2q-KPy7OP",
        "outputId": "37ebff8c-c2f1-4a3d-f3d3-01e5531bd87f"
      },
      "execution_count": 3,
      "outputs": [
        {
          "output_type": "stream",
          "name": "stdout",
          "text": [
            "0\n",
            "1\n",
            "2\n",
            "3\n",
            "4\n",
            "5\n",
            "6\n",
            "7\n",
            "8\n",
            "9\n"
          ]
        }
      ]
    },
    {
      "cell_type": "markdown",
      "source": [
        "Q2. Write a python program to print the sum and product of the first 10 natural numbers using for and while loop."
      ],
      "metadata": {
        "id": "WhQNKcIgzBbc"
      }
    },
    {
      "cell_type": "code",
      "source": [
        "l=range(1,11)\n",
        "sum=0\n",
        "product=1\n",
        "\n",
        "for i in l:\n",
        "    sum=sum+i\n",
        "    product=product*i\n",
        "print(\"Sum=\",sum)\n",
        "print(\"Product=\",product)"
      ],
      "metadata": {
        "colab": {
          "base_uri": "https://localhost:8080/"
        },
        "id": "DAiPnPwWy-XQ",
        "outputId": "ece0438a-83d3-49ca-991e-3bc2c1c4f213"
      },
      "execution_count": 4,
      "outputs": [
        {
          "output_type": "stream",
          "name": "stdout",
          "text": [
            "Sum= 55\n",
            "Product= 3628800\n"
          ]
        }
      ]
    },
    {
      "cell_type": "code",
      "source": [
        "sum_result = 0\n",
        "product_result = 1\n",
        "count = 1\n",
        "\n",
        "while count <= 10:\n",
        "    sum_result += count\n",
        "    product_result *= count\n",
        "    count += 1\n",
        "\n",
        "print(\"Sum using while loop:\", sum_result)\n",
        "print(\"Product using while loop:\", product_result)"
      ],
      "metadata": {
        "colab": {
          "base_uri": "https://localhost:8080/"
        },
        "id": "KnXzmeNnzF0l",
        "outputId": "cda2cd95-30d9-4bad-9922-a7d65fd603be"
      },
      "execution_count": 5,
      "outputs": [
        {
          "output_type": "stream",
          "name": "stdout",
          "text": [
            "Sum using while loop: 55\n",
            "Product using while loop: 3628800\n"
          ]
        }
      ]
    },
    {
      "cell_type": "markdown",
      "source": [
        "Q3. Create a python program to compute the electricity bill for a household.\n",
        "Q4. Create a list of numbers from 1 to 100. Use for loop and while loop to calculate the cube of each\n",
        "number and if the cube of that number is divisible by 4 or 5 then append that number in a list and print\n",
        "that list.\n",
        "The per-unit charges in rupees are as follows: For the first 100 units, the user will be charged Rs. 4.5 per\n",
        "unit, for the next 100 units, the user will be charged Rs. 6 per unit, and for the next 100 units, the user will\n",
        "be charged Rs. 10 per unit, After 300 units and above the user will be charged Rs. 20 per unit.\n",
        "\n",
        "\n",
        "You are required to take the units of electricity consumed in a month from the user as input.\n",
        "\n",
        "\n",
        "Your program must pass this test case: when the unit of electricity consumed by the user in a month is\n",
        "310, the total electricity bill should be 2250."
      ],
      "metadata": {
        "id": "fXfrKNUfzXX1"
      }
    },
    {
      "cell_type": "code",
      "source": [
        "def calculate_electricity_bill(units):\n",
        "    total_bill = 0\n",
        "\n",
        "    if units <= 100:\n",
        "        total_bill = units * 4.5\n",
        "    elif units <= 200:\n",
        "        total_bill = 100 * 4.5 + (units - 100) * 6\n",
        "    elif units <= 300:\n",
        "        total_bill = 100 * 4.5 + 100 * 6 + (units - 200) * 10\n",
        "    else:\n",
        "        total_bill = 100 * 4.5 + 100 * 6 + 100 * 10 + (units - 300) * 20\n",
        "\n",
        "    return total_bill\n",
        "\n",
        "units_consumed = int(input(\"Enter the units of electricity consumed: \"))\n",
        "electricity_bill = calculate_electricity_bill(units_consumed)\n",
        "print(\"Total electricity bill: Rs.\", electricity_bill)\n",
        "\n"
      ],
      "metadata": {
        "colab": {
          "base_uri": "https://localhost:8080/"
        },
        "id": "YxOG4IMpzIZj",
        "outputId": "4697e779-6e37-4845-8220-53b9371ec434"
      },
      "execution_count": 10,
      "outputs": [
        {
          "output_type": "stream",
          "name": "stdout",
          "text": [
            "Enter the units of electricity consumed: 310\n",
            "Total electricity bill: Rs. 2250.0\n"
          ]
        }
      ]
    },
    {
      "cell_type": "markdown",
      "source": [
        "Q4. Create a list of numbers from 1 to 100. Use for loop and while loop to calculate the cube of each\n",
        "number and if the cube of that number is divisible by 4 or 5 then append that number in a list and print\n",
        "that list."
      ],
      "metadata": {
        "id": "jKeRXfu-3B7O"
      }
    },
    {
      "cell_type": "code",
      "source": [
        "num=[]\n",
        "for i in range(1,101):\n",
        "  cube=i**3\n",
        "  if cube%4 ==0 or cube%5==0:\n",
        "    num.append(i)\n",
        "\n",
        "print(num)"
      ],
      "metadata": {
        "colab": {
          "base_uri": "https://localhost:8080/"
        },
        "id": "WS-Rhl0m0zVM",
        "outputId": "50ebbd2f-4c50-438c-9aa3-fc1fbe7499a0"
      },
      "execution_count": 12,
      "outputs": [
        {
          "output_type": "stream",
          "name": "stdout",
          "text": [
            "[2, 4, 5, 6, 8, 10, 12, 14, 15, 16, 18, 20, 22, 24, 25, 26, 28, 30, 32, 34, 35, 36, 38, 40, 42, 44, 45, 46, 48, 50, 52, 54, 55, 56, 58, 60, 62, 64, 65, 66, 68, 70, 72, 74, 75, 76, 78, 80, 82, 84, 85, 86, 88, 90, 92, 94, 95, 96, 98, 100]\n"
          ]
        }
      ]
    },
    {
      "cell_type": "code",
      "source": [
        "num=[]\n",
        "i=1\n",
        "while i <=100:\n",
        "  cube=i**3\n",
        "  if cube%4==0 or cube%5==0:\n",
        "    num.append(i)\n",
        "  i=i+1\n",
        "\n",
        "print(num)\n"
      ],
      "metadata": {
        "colab": {
          "base_uri": "https://localhost:8080/"
        },
        "id": "18twMZei4HeB",
        "outputId": "558e6418-4cba-401b-aa79-ca5ffba95f1d"
      },
      "execution_count": 15,
      "outputs": [
        {
          "output_type": "stream",
          "name": "stdout",
          "text": [
            "[2, 4, 5, 6, 8, 10, 12, 14, 15, 16, 18, 20, 22, 24, 25, 26, 28, 30, 32, 34, 35, 36, 38, 40, 42, 44, 45, 46, 48, 50, 52, 54, 55, 56, 58, 60, 62, 64, 65, 66, 68, 70, 72, 74, 75, 76, 78, 80, 82, 84, 85, 86, 88, 90, 92, 94, 95, 96, 98, 100]\n"
          ]
        }
      ]
    },
    {
      "cell_type": "markdown",
      "source": [
        "Q5. Write a program to filter count vowels in the below-given string.\n",
        "\n",
        "string = \"I want to become a data scientist\""
      ],
      "metadata": {
        "id": "a5kWAZk65x1o"
      }
    },
    {
      "cell_type": "code",
      "source": [
        "string = \"I want to become a data scientist\"\n",
        "\n",
        "string=string.lower()\n",
        "\n",
        "vowels=\"aeiou\"\n",
        "\n",
        "count=0\n",
        "\n",
        "for i in string:\n",
        "  if i in vowels:\n",
        "    count=count+1\n",
        "\n",
        "print(count)"
      ],
      "metadata": {
        "colab": {
          "base_uri": "https://localhost:8080/"
        },
        "id": "g8eamjde5W2s",
        "outputId": "299294ec-ea00-4263-f6a6-a3095d726176"
      },
      "execution_count": 18,
      "outputs": [
        {
          "output_type": "stream",
          "name": "stdout",
          "text": [
            "12\n"
          ]
        }
      ]
    },
    {
      "cell_type": "code",
      "source": [],
      "metadata": {
        "id": "oO-qba6F6q8u"
      },
      "execution_count": null,
      "outputs": []
    }
  ]
}