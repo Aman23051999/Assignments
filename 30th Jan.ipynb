{
 "cells": [
  {
   "cell_type": "markdown",
   "id": "68d7be6c-d057-426a-af14-02c29e276702",
   "metadata": {},
   "source": [
    "Q1. Write a programme to accept percentage from the user and to display grades according to the following creteria.:"
   ]
  },
  {
   "cell_type": "code",
   "execution_count": 1,
   "id": "2bf14d13-1e79-4409-a28d-362dbbf4bfc5",
   "metadata": {},
   "outputs": [
    {
     "name": "stdin",
     "output_type": "stream",
     "text": [
      " 76\n"
     ]
    },
    {
     "name": "stdout",
     "output_type": "stream",
     "text": [
      "C\n"
     ]
    }
   ],
   "source": [
    "marks=int(input())\n",
    "if marks > 90:\n",
    "    print(\"A\")\n",
    "elif marks <=90 and marks>80:\n",
    "    print(\"B\")\n",
    "elif marks <=80 and marks>=60:\n",
    "    print(\"C\")\n",
    "    \n",
    "else:\n",
    "    print(\"D\")\n"
   ]
  },
  {
   "cell_type": "markdown",
   "id": "3d1233a1-ff56-4a3f-915f-65a3f9eae500",
   "metadata": {},
   "source": [
    "Q2.Write a programme to accept the cost price of a bike and display the road tax according to the given certeria:-\\"
   ]
  },
  {
   "cell_type": "code",
   "execution_count": 2,
   "id": "c3ddf12a-61fc-44f6-9fc4-bb7d73a81c8f",
   "metadata": {},
   "outputs": [
    {
     "name": "stdin",
     "output_type": "stream",
     "text": [
      "Cost of bike :  7797854\n"
     ]
    },
    {
     "name": "stdout",
     "output_type": "stream",
     "text": [
      "tax: 15%\n"
     ]
    }
   ],
   "source": [
    "Cost =int(input(\"Cost of bike : \"))\n",
    "if Cost> 100000:\n",
    "    print(\"tax: 15%\")\n",
    "elif Cost >50000 and Cost<=100000:\n",
    "    print(\"Tax: 10%\")\n",
    "    \n",
    "elif Cost <=50000:\n",
    "    print(\"Tax: 5%\")"
   ]
  },
  {
   "cell_type": "markdown",
   "id": "5091066b-4349-4794-90f4-e45daed55199",
   "metadata": {},
   "source": [
    "Q4.Check how many time a given number is divided by 3 before it is less than or equal to 10."
   ]
  },
  {
   "cell_type": "code",
   "execution_count": 3,
   "id": "89f84024-d72b-4ec8-993e-0ec6b87ddcec",
   "metadata": {},
   "outputs": [
    {
     "name": "stdin",
     "output_type": "stream",
     "text": [
      "Enter the Number: 576\n"
     ]
    },
    {
     "name": "stdout",
     "output_type": "stream",
     "text": [
      "The number 576 needs to be divided by 3 2 times to become less than or equal to 10\n"
     ]
    }
   ],
   "source": [
    "def i(n):\n",
    "    count=0\n",
    "    while n>10:\n",
    "        n/=13\n",
    "        count+=1\n",
    "    return count\n",
    "\n",
    "number=int(input(\"Enter the Number:\"))\n",
    "division=i(number)\n",
    "print(f\"The number {number} needs to be divided by 3 {division} times to become less than or equal to 10\")"
   ]
  },
  {
   "cell_type": "markdown",
   "id": "4527d143-ca2e-4876-b977-76cd24e43c30",
   "metadata": {},
   "source": [
    "Q5.Why and when to use While loop in python given a detailed description with example."
   ]
  },
  {
   "cell_type": "markdown",
   "id": "552570fa-fe03-4ef6-bc3a-66d045356f30",
   "metadata": {},
   "source": [
    "A while loop in Python is used to repeatedly execute a block of code as long as a certain condition remains true. The loop continues to execute until the condition evaluates to false. This makes the while loop useful for situations where you want to perform a task repeatedly until a specific condition is met.\n",
    "\n",
    "Here's a detailed description of when and why to use a while loop in Python, along with an example:\n",
    "\n",
    "When to use a while loop:\n",
    "\n",
    "Unknown Iteration Count: Use a while loop when you don't know beforehand how many times you need to repeat a task. The loop will continue until a specified condition is no longer true.\n",
    "\n",
    "Dynamic Termination: When you want to execute a block of code repeatedly until a certain condition is met, a while loop is appropriate. This is especially useful when the condition depends on changing circumstances.\n",
    "\n",
    "User Input Validation: If you're expecting user input and need to validate it until certain conditions are satisfied, a while loop can be used to keep prompting the user until valid input is given.\n",
    "\n",
    "Example: Calculating Factorial Using a while loop\n",
    "\n",
    "Let's say we want to calculate the factorial of a number using a while loop. Factorial of a non-negative integer n is denoted as n! and is calculated as the product of all positive integers from 1 to n."
   ]
  },
  {
   "cell_type": "code",
   "execution_count": 4,
   "id": "51218d46-1814-42fc-bd80-ac9e15aaa1bc",
   "metadata": {},
   "outputs": [
    {
     "name": "stdin",
     "output_type": "stream",
     "text": [
      "Enter a non-negative integer:  55\n"
     ]
    },
    {
     "name": "stdout",
     "output_type": "stream",
     "text": [
      "The factorial of 55 is 12696403353658275925965100847566516959580321051449436762275840000000000000.\n"
     ]
    }
   ],
   "source": [
    "def factorial(n):\n",
    "    if n<0:\n",
    "        return None\n",
    "    if n==0:\n",
    "        return 1\n",
    "    \n",
    "    result=1\n",
    "    while n>1:\n",
    "        result*=n\n",
    "        n-=1\n",
    "    return result    \n",
    "\n",
    "\n",
    "\n",
    "number = int(input(\"Enter a non-negative integer: \"))\n",
    "Aman = factorial(number)\n",
    "\n",
    "if Aman is None:\n",
    "    print(\"Factorial is not defined for negative numbers.\")\n",
    "else:\n",
    "    print(f\"The factorial of {number} is {Aman}.\")"
   ]
  },
  {
   "cell_type": "markdown",
   "id": "df09dc1f-f81d-4025-b26f-03bb25db6508",
   "metadata": {},
   "source": [
    "\n",
    "\n",
    "Q6.Use nested while loop to print 3 different pattern.\n",
    "\n",
    "\n"
   ]
  },
  {
   "cell_type": "code",
   "execution_count": 5,
   "id": "c0e049a2-ad01-4ee0-95c9-3caaba16b4d0",
   "metadata": {},
   "outputs": [
    {
     "name": "stdout",
     "output_type": "stream",
     "text": [
      "*\n",
      "**\n",
      "***\n",
      "****\n",
      "*****\n",
      "******\n",
      "*******\n",
      "********\n",
      "*********\n",
      "**********\n"
     ]
    }
   ],
   "source": [
    "n=10\n",
    "i=1\n",
    "\n",
    "while i<=n:\n",
    "    j=1\n",
    "    while j<=i:\n",
    "        print(\"*\", end=\"\")\n",
    "        j+=1\n",
    "    print()\n",
    "    i+=1"
   ]
  },
  {
   "cell_type": "code",
   "execution_count": 6,
   "id": "fd75b6b4-cca0-4c08-b5e2-bc6a2cfb5743",
   "metadata": {},
   "outputs": [
    {
     "name": "stdout",
     "output_type": "stream",
     "text": [
      "*****\n",
      "*\n",
      "\n",
      "\n",
      "*\n",
      "*\n",
      "\n",
      "\n",
      "*\n",
      "*\n",
      "\n",
      "\n",
      "*\n",
      "*****\n"
     ]
    }
   ],
   "source": [
    "r=5\n",
    "c=5\n",
    "i=1\n",
    "\n",
    "while i<=r:\n",
    "    j=1\n",
    "    while j<=c:\n",
    "        if i==1 or i==r or j==1 or j==c:\n",
    "            print(\"*\",end=\"\")\n",
    "            \n",
    "        else:\n",
    "            print()\n",
    "            \n",
    "        j+=1\n",
    "    print()\n",
    "    i+=1"
   ]
  },
  {
   "cell_type": "code",
   "execution_count": 7,
   "id": "9e58c028-c9fd-47a6-a3e1-42c7929acaef",
   "metadata": {},
   "outputs": [
    {
     "name": "stdout",
     "output_type": "stream",
     "text": [
      "    *\n",
      "   ***\n",
      "  *****\n",
      " *******\n",
      "*********\n"
     ]
    }
   ],
   "source": [
    "n = 5\n",
    "i = 1\n",
    "\n",
    "while i <= n:\n",
    "    \n",
    "    j = 1\n",
    "    while j <= n - i:\n",
    "        print(\" \", end=\"\")\n",
    "        j += 1\n",
    "\n",
    "    \n",
    "    j = 1\n",
    "    while j <= 2 * i - 1:\n",
    "        print(\"*\", end=\"\")\n",
    "        j += 1\n",
    "\n",
    "    print()\n",
    "    i += 1\n"
   ]
  },
  {
   "cell_type": "markdown",
   "id": "f394bb3a-9876-4abe-866d-379b2a3cb87d",
   "metadata": {},
   "source": [
    "Q7. Reverse a while loop to display  number 10 to 1."
   ]
  },
  {
   "cell_type": "code",
   "execution_count": null,
   "id": "4495c0d1-f0f1-4206-b14b-695e4534b3d8",
   "metadata": {},
   "outputs": [],
   "source": [
    "i=10\n",
    "while i>=1:\n",
    "    print(i)\n",
    "    i+"
   ]
  }
 ],
 "metadata": {
  "kernelspec": {
   "display_name": "Python 3 (ipykernel)",
   "language": "python",
   "name": "python3"
  },
  "language_info": {
   "codemirror_mode": {
    "name": "ipython",
    "version": 3
   },
   "file_extension": ".py",
   "mimetype": "text/x-python",
   "name": "python",
   "nbconvert_exporter": "python",
   "pygments_lexer": "ipython3",
   "version": "3.10.8"
  }
 },
 "nbformat": 4,
 "nbformat_minor": 5
}
